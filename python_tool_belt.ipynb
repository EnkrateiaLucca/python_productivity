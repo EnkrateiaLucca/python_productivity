{
 "cells": [
  {
   "cell_type": "markdown",
   "metadata": {},
   "source": [
    "### <span style=\"color:red\">  Python for downloading pdfs"
   ]
  },
  {
   "cell_type": "code",
   "execution_count": 3,
   "metadata": {},
   "outputs": [
    {
     "name": "stdout",
     "output_type": "stream",
     "text": [
      "Give the link for the pdfhttps://arxiv.org/ftp/arxiv/papers/2004/2004.07580.pdf\n",
      "Give a name for your filerandom_pdf\n",
      "100% [............................................................................] 980253 / 980253"
     ]
    },
    {
     "data": {
      "text/plain": [
       "'C:\\\\Users\\\\lucas\\\\Downloads\\\\random_pdf.pdf'"
      ]
     },
     "execution_count": 3,
     "metadata": {},
     "output_type": "execute_result"
    }
   ],
   "source": [
    "import wget\n",
    "import requests\n",
    "\n",
    "url = input(\"Give the link for the pdf\")\n",
    "\n",
    "filename = input(\"Give a name for your file\")\n",
    "r = requests.get(url)\n",
    "\n",
    "wget.download(url, r\"C:\\Users\\lucas\\Downloads\\{}.pdf\".format(filename))"
   ]
  },
  {
   "cell_type": "markdown",
   "metadata": {},
   "source": [
    "### <span style=\"color: green\"> Python for downloading youtube videos"
   ]
  },
  {
   "cell_type": "code",
   "execution_count": 1,
   "metadata": {},
   "outputs": [],
   "source": [
    "import sys\n",
    "import pytube\n",
    "import youtube_dl \n",
    "    \n",
    "\n",
    "def youtube_download1(vid_url, download_path=r\"C:\\Users\\lucas\\Downloads\",test=False): # pytube version\n",
    "    if test:\n",
    "        video_url = 'https://www.youtube.com/watch?v=tXOIvjbNhts' # paste here your Youube videos' url\n",
    "        youtube = pytube.YouTube(video_url)\n",
    "        video = youtube.streams.first()\n",
    "        video.download(download_path)\n",
    "    else:\n",
    "        youtube = pytube.YouTube(vid_url)\n",
    "        video = youtube.streams.first()\n",
    "        video.download(download_path)\n",
    "\n",
    "\n",
    "\n",
    "        \n",
    "        \n",
    "url = \"https://www.youtube.com/watch?v=qbW6FRbaSl0\"\n",
    "# youtube_download1(url)\n",
    "# \turl = sys.argv[1]"
   ]
  },
  {
   "cell_type": "code",
   "execution_count": 1,
   "metadata": {},
   "outputs": [
    {
     "name": "stdout",
     "output_type": "stream",
     "text": [
      "Copy & paste the URL of the YouTube video you want to download:- https://www.youtube.com/watch?v=NA-MjPJ4ZQc\n",
      "[youtube] NA-MjPJ4ZQc: Downloading webpage\n",
      "[download] Destination: Kevin Holland accuses Trevin Giles of intentional fainting _ UFC on ESPN+ 31 interview-NA-MjPJ4ZQc.f137.mp4\n",
      "[download] 100% of 32.70MiB in 00:05                  \n",
      "[download] Destination: Kevin Holland accuses Trevin Giles of intentional fainting _ UFC on ESPN+ 31 interview-NA-MjPJ4ZQc.f140.m4a\n",
      "[download] 100% of 5.59MiB in 00:00                  \n",
      "[ffmpeg] Merging formats into \"Kevin Holland accuses Trevin Giles of intentional fainting _ UFC on ESPN+ 31 interview-NA-MjPJ4ZQc.mp4\"\n",
      "Deleting original file Kevin Holland accuses Trevin Giles of intentional fainting _ UFC on ESPN+ 31 interview-NA-MjPJ4ZQc.f137.mp4 (pass -k to keep)\n",
      "Deleting original file Kevin Holland accuses Trevin Giles of intentional fainting _ UFC on ESPN+ 31 interview-NA-MjPJ4ZQc.f140.m4a (pass -k to keep)\n",
      "Enter 1 if you want to download more videos \n",
      "Enter 0 if you are done 0\n"
     ]
    }
   ],
   "source": [
    "# source: https://www.geeksforgeeks.org/python-download-youtube-videos-using-youtube_dl-module/\n",
    "import youtube_dl \n",
    "  \n",
    "ydl_opts = {} \n",
    "  \n",
    "def dwl_vid(): \n",
    "    with youtube_dl.YoutubeDL(ydl_opts) as ydl: \n",
    "        ydl.download([zxt]) \n",
    "\n",
    "link_of_the_video = input(\"Copy & paste the URL of the YouTube video you want to download:- \") \n",
    "zxt = link_of_the_video.strip() \n",
    "  \n",
    "dwl_vid()"
   ]
  },
  {
   "cell_type": "code",
   "execution_count": 5,
   "metadata": {},
   "outputs": [
    {
     "name": "stdout",
     "output_type": "stream",
     "text": [
      "Give the URL of the YouTube video you want to download:- https://www.youtube.com/watch?v=imN-vhi5ZWQ\n",
      "https://www.youtube.com/watch?v=imN-vhi5ZWQ\n",
      "[youtube] imN-vhi5ZWQ: Downloading webpage\n",
      "[download] Destination: Building The Ultimate r_Python Automation Ideas!-imN-vhi5ZWQ.f313.webm\n",
      "[download] 100% of 148.44MiB in 00:15                          \n",
      "[download] Destination: Building The Ultimate r_Python Automation Ideas!-imN-vhi5ZWQ.f251.webm\n",
      "[download] 100% of 5.78MiB in 00:00                   \n",
      "[ffmpeg] Merging formats into \"Building The Ultimate r_Python Automation Ideas!-imN-vhi5ZWQ.webm\"\n",
      "Deleting original file Building The Ultimate r_Python Automation Ideas!-imN-vhi5ZWQ.f313.webm (pass -k to keep)\n",
      "Deleting original file Building The Ultimate r_Python Automation Ideas!-imN-vhi5ZWQ.f251.webm (pass -k to keep)\n"
     ]
    },
    {
     "data": {
      "text/plain": [
       "0"
      ]
     },
     "execution_count": 5,
     "metadata": {},
     "output_type": "execute_result"
    }
   ],
   "source": [
    "import youtube_dl \n",
    "  \n",
    "link = input(\"Give the URL of the YouTube video you want to download:- \") \n",
    "print(link)\n",
    "\n",
    "ydl = youtube_dl.YoutubeDL({})\n",
    "ydl.download([link]) "
   ]
  },
  {
   "cell_type": "markdown",
   "metadata": {},
   "source": [
    "### <span style=\"color: blue\" >  Python for organizing your downloads folder "
   ]
  },
  {
   "cell_type": "code",
   "execution_count": null,
   "metadata": {},
   "outputs": [],
   "source": [
    "# source for inspiration: https://www.youtube.com/watch?v=qbW6FRbaSl0&t=1s\n",
    "from watchdog.observers import Observer\n",
    "from watchdog.events import FileSystemEventHandler\n",
    "import json\n",
    "import os\n",
    "import pathlib\n",
    "import time\n",
    "import shutil\n",
    "\n",
    "\n",
    "class MyHandler(FileSystemEventHandler):\n",
    "    i = 1\n",
    "    def on_modified(self, event):\n",
    "        for filename in [file for file in folder_to_track.iterdir()]:\n",
    "            ext = self.get_extension(filename)\n",
    "            if ext is not None:\n",
    "                new_destination = self.get_destination(filename,ext)\n",
    "                print(\"Original file: {}\".format(filename))\n",
    "                print(\"Will be moved to: {}\".format(new_destination))\n",
    "                shutil.move(filename,new_destination)\n",
    "            else:\n",
    "                print(ext)\n",
    "                print(\"No files were moved\")\n",
    "        print(\"Finished observing\")\n",
    "        print(\"*\"*100)\n",
    "        \n",
    "            \n",
    "\n",
    "    def get_destination(self, filename, ext):\n",
    "        pdfs_folder = pathlib.Path(r\"C:\\Users\\lucas\\Downloads\\pdfs\")\n",
    "        images_folder = pathlib.Path(r\"C:\\Users\\lucas\\Downloads\\images\")\n",
    "        text_md_folder = pathlib.Path(r\"C:\\Users\\lucas\\Downloads\\text_md_folder\")\n",
    "        videos_folder = pathlib.Path(r\"C:\\Users\\lucas\\Downloads\\videos\")\n",
    "        zips_folder = pathlib.Path(r\"C:\\Users\\lucas\\Downloads\\zip_files\")\n",
    "        csv_folder = pathlib.Path(r\"C:\\Users\\lucas\\Downloads\\csv_files\")\n",
    "        exe_folder = pathlib.Path(r\"C:\\Users\\lucas\\Downloads\\exe_files\")\n",
    "        if ext==\".pdf\":\n",
    "            new_destination = pdfs_folder / filename.name\n",
    "        elif ext.lower()==\".png\" or ext.lower()==\".jpg\" or ext.lower()==\".svg\" \\\n",
    "                              or ext.lower()==\".jpeg\" or ext.lower()==\".jfif\":\n",
    "            new_destination = images_folder / filename.name\n",
    "        elif ext.lower()==\".txt\" or ext.lower()==\".md\":\n",
    "            new_destination = text_md_folder / filename.name\n",
    "        elif ext.lower()==\".mp4\" or ext.lower()==\".avi\" or ext.lower()==\".mov\":\n",
    "            new_destination = videos_folder / filename.name\n",
    "        elif ext.lower()==\".zip\":\n",
    "            new_destination = zips_folder / filename.name\n",
    "        elif ext.lower()==\".csv\":\n",
    "            new_destination = csv_folder / filename.name\n",
    "        elif ext.lower()==\".exe\":\n",
    "            new_destination = exe_folder / filename.name\n",
    "        else:\n",
    "            new_destination = folder_to_track / filename.name\n",
    "\n",
    "        return new_destination\n",
    "\n",
    "    def get_extension(self, filename):\n",
    "        extensions = [\".pdf\", \".png\", \".jpg\", \".svg\", \".txt\", \".md\", \".mp4\",\n",
    "                      \".avi\",\".mov\", \".jfif\", \".zip\", \".csv\", \".exe\"]\n",
    "        ext = pathlib.Path(filename).suffix\n",
    "        if ext.lower() in extensions:\n",
    "            return ext\n",
    "        \n",
    "            \n",
    "        \n",
    "\n",
    "\n",
    "if __name__==\"__main__\":\n",
    "    folder_to_track = pathlib.Path(r\"C:\\Users\\lucas\\Downloads\")\n",
    "    event_handler = MyHandler()\n",
    "    observer = Observer()\n",
    "    observer.schedule(event_handler,str(folder_to_track.absolute()), recursive=True)\n",
    "    observer.start()\n",
    "    try:\n",
    "        while True:\n",
    "            time.sleep(5)\n",
    "    except:\n",
    "        observer.stop()\n",
    "    observer.join()"
   ]
  },
  {
   "cell_type": "markdown",
   "metadata": {},
   "source": [
    "### <span style=\"color: magenta\"> Python for automating your browser tasks"
   ]
  },
  {
   "cell_type": "code",
   "execution_count": null,
   "metadata": {},
   "outputs": [],
   "source": [
    "# Inspiration: https://automatetheboringstuff.com/\n",
    "# A bot to show me my medium stats from terminal\n",
    "\n",
    "import pyautogui\n",
    "import time\n",
    "\n",
    "\n",
    "# Step 1\n",
    "# Click on the Menu bar\n",
    "pyautogui.click(195, 1061)\n",
    "\n",
    "# Step 2\n",
    "# Write \"edge\" to get the browser and press enter\n",
    "pyautogui.typewrite(\"edge\")\n",
    "\n",
    "# Step 3\n",
    "# Press the enter key\n",
    "pyautogui.typewrite(\"\\n\")\n",
    "\n",
    "\n",
    "# Step 4\n",
    "# Wait half second to give time for  the browser to open\n",
    "time.sleep(0.5)\n",
    "\n",
    "# Step 5\n",
    "# Click on the stats extension (in my Main screen)\n",
    "pyautogui.click(1703, 48)"
   ]
  },
  {
   "cell_type": "markdown",
   "metadata": {},
   "source": [
    "### <span style=\"color: orange\"> Python for automating task organization"
   ]
  },
  {
   "cell_type": "code",
   "execution_count": null,
   "metadata": {},
   "outputs": [],
   "source": [
    "# source: https://github.com/khuyentran1401/Task-scheduler-problem\n",
    "# Khuyen Tran post: https://towardsdatascience.com/maximize-your-productivity-with-python-6110004b45f7\n",
    "\n",
    "# THis one I need to reflect a bit better on how to write it as a python tool\n"
   ]
  },
  {
   "cell_type": "markdown",
   "metadata": {},
   "source": [
    "### <span style=\"color: brown\"> Python for image operations"
   ]
  },
  {
   "cell_type": "markdown",
   "metadata": {},
   "source": [
    "#### Converting images to SVG"
   ]
  },
  {
   "cell_type": "code",
   "execution_count": null,
   "metadata": {},
   "outputs": [],
   "source": [
    "\n",
    "import cv2 as cv\n",
    "import matplotlib.pyplot as plt\n",
    "import sys\n",
    "import os\n",
    "import argparse\n",
    "\n",
    "def load_img(img_path):\n",
    "    \"\"\"Loads img with opencv\"\"\"\n",
    "\n",
    "    img = cv.imread(img_path)\n",
    "    img = cv.cvtColor(img, cv.COLOR_BGR2RGB)\n",
    "    return img\n",
    "\n",
    "def convert_to_svg(img,dest_path, output_name=\"output.svg\", show=False):\n",
    "    \"\"\"Saves image with matplotlib with option to visualize\"\"\"\n",
    "\n",
    "    plt.imshow(img)\n",
    "    plt.savefig(os.path.join(dest_path, output_name), format=\"svg\")\n",
    "    if show:\n",
    "        plt.show()\n",
    "\n",
    "parser = argparse.ArgumentParser()\n",
    "\n",
    "#Then we add arguments\n",
    "parser.add_argument(\"-img\", \"--image_path\", help=\"Description\", required = False)\n",
    "parser.add_argument(\"-save\", \"--save\", help=\"Description\", required = False)\n",
    "parser.add_argument(\"-show\", \"--show\", help=\"Description\", required=False)\n",
    "parser.add_argument(\"-dest\", \"--dest_path\", help=\"Description\", required=True)\n",
    "parser.add_argument(\"-multi\", \"--multi_imgs_bool\", help=\"Description\", required=False)\n",
    "parser.add_argument(\"-imgs\", \"--images\", help=\"Description\", required=False,nargs=10)\n",
    "#I parse the arguments given when the script is executed\n",
    "args = parser.parse_args()\n",
    "\n",
    "if args.multi_imgs_bool == \"True\":\n",
    "    for i,img_path in enumerate(args.images):\n",
    "        img = load_img(img_path)\n",
    "        if args.show == \"True\":\n",
    "            convert_to_svg(img, args.dest_path,\n",
    "                           output_name=\"output_{}.svg\".format(i),\n",
    "                           show=bool(args.show))\n",
    "        else:\n",
    "            convert_to_svg(img, args.dest_path,\n",
    "                           output_name=\"output_{}.svg\".format(i))\n",
    "else:\n",
    "    img_path = args.image_path\n",
    "    img = load_img(img_path)\n",
    "    if args.show:\n",
    "        convert_to_svg(img, args.dest_path,\n",
    "                       output_name=\"output.svg\",\n",
    "                       show=bool(args.show))\n",
    "    else:\n",
    "        convert_to_svg(img, args.dest_path,\n",
    "                       output_name=\"output.svg\")"
   ]
  },
  {
   "cell_type": "markdown",
   "metadata": {},
   "source": [
    "#### Converting images to thumbnails"
   ]
  },
  {
   "cell_type": "code",
   "execution_count": null,
   "metadata": {},
   "outputs": [],
   "source": [
    "# experiments with the Python Image Library (PIL)\n",
    "# free from:  http://www.pythonware.com/products/pil/index.htm\n",
    "# create 128x128 (max size) thumbnails of all JPEG images in the working folder\n",
    "# Python23 tested    vegaseat    25feb2005\n",
    "import glob\n",
    "import Image\n",
    "# get all the jpg files from the current folder\n",
    "for infile in glob.glob(\"*.jpg\"):\n",
    "  im = Image.open(infile)\n",
    "  # convert to thumbnail image\n",
    "  im.thumbnail((128, 128), Image.ANTIALIAS)\n",
    "  # don't save if thumbnail already exists\n",
    "  if infile[0:2] != \"T_\":\n",
    "    # prefix thumbnail file with T_\n",
    "    im.save(\"T_\" + infile, \"JPEG\")"
   ]
  },
  {
   "cell_type": "markdown",
   "metadata": {},
   "source": [
    "#### Creating gifs"
   ]
  },
  {
   "cell_type": "code",
   "execution_count": null,
   "metadata": {},
   "outputs": [],
   "source": [
    "#source: https://www.idiotinside.com/2017/06/06/create-gif-animation-with-python/\n",
    "import os\n",
    "import datetime\n",
    "import sys\n",
    "import datetime\n",
    "import imageio\n",
    "\n",
    "\n",
    "VALID_EXTENSIONS = ('png', 'jpg')\n",
    "\n",
    "\n",
    "def create_gif(filenames, duration, output_name):\n",
    "    images = []\n",
    "    for filename in filenames:\n",
    "        images.append(imageio.imread(filename))\n",
    "    output_file = '{}.gif'.format(output_name)\n",
    "    imageio.mimsave(output_file, images, duration=duration)\n",
    "\n",
    "\n",
    "if __name__ == \"__main__\":\n",
    "    script = sys.argv.pop(0)\n",
    "\n",
    "    if len(sys.argv) < 2:\n",
    "        print('Usage: python {} <duration> <path to images separated by space>'.format(script))\n",
    "        sys.exit(1)\n",
    "\n",
    "    duration = float(sys.argv.pop(0))\n",
    "    filenames = sys.argv\n",
    "\n",
    "    if not all(f.lower().endswith(VALID_EXTENSIONS) for f in filenames):\n",
    "        print('Only png and jpg files allowed')\n",
    "        sys.exit(1)\n",
    "    output_name = \"test_gif.gif\"\n",
    "    create_gif(filenames, duration, output_name)"
   ]
  },
  {
   "cell_type": "markdown",
   "metadata": {},
   "source": [
    "### <span style=\"color: dark green\"> Python useful api integrations "
   ]
  },
  {
   "cell_type": "code",
   "execution_count": 2,
   "metadata": {},
   "outputs": [],
   "source": []
  }
 ],
 "metadata": {
  "kernelspec": {
   "display_name": "Python 3",
   "language": "python",
   "name": "python3"
  },
  "language_info": {
   "codemirror_mode": {
    "name": "ipython",
    "version": 3
   },
   "file_extension": ".py",
   "mimetype": "text/x-python",
   "name": "python",
   "nbconvert_exporter": "python",
   "pygments_lexer": "ipython3",
   "version": "3.6.10"
  }
 },
 "nbformat": 4,
 "nbformat_minor": 4
}
